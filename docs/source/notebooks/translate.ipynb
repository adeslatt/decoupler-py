{
 "cells": [
  {
   "cell_type": "markdown",
   "id": "b0ef3cdd",
   "metadata": {},
   "source": [
    "# Conversion to other organisms\n",
    "\n",
    "Most of the prior knowledge stored inside `Omnipath` is derived from human data, therefore they use gene names. Despite this, using homology we can convert gene names to other organisms.\n",
    "\n",
    "To showcase how to do it inside `decoupler`, we will load the `MSigDB` database and convert it into gene symbols for mouse and fly."
   ]
  },
  {
   "cell_type": "markdown",
   "id": "8de27a4a-638e-43a2-89d0-56f37018b796",
   "metadata": {},
   "source": [
    "in a clean environment, need to install pypath\n",
    "\n",
    "```bash\n",
    "pip install pypath-omnipath\n",
    "```"
   ]
  },
  {
   "cell_type": "code",
   "execution_count": 1,
   "id": "f7d87e7d",
   "metadata": {},
   "outputs": [
    {
     "data": {
      "text/html": [
       "<div>\n",
       "<style scoped>\n",
       "    .dataframe tbody tr th:only-of-type {\n",
       "        vertical-align: middle;\n",
       "    }\n",
       "\n",
       "    .dataframe tbody tr th {\n",
       "        vertical-align: top;\n",
       "    }\n",
       "\n",
       "    .dataframe thead th {\n",
       "        text-align: right;\n",
       "    }\n",
       "</style>\n",
       "<table border=\"1\" class=\"dataframe\">\n",
       "  <thead>\n",
       "    <tr style=\"text-align: right;\">\n",
       "      <th></th>\n",
       "      <th>genesymbol</th>\n",
       "      <th>collection</th>\n",
       "      <th>geneset</th>\n",
       "    </tr>\n",
       "  </thead>\n",
       "  <tbody>\n",
       "    <tr>\n",
       "      <th>0</th>\n",
       "      <td>MAFF</td>\n",
       "      <td>chemical_and_genetic_perturbations</td>\n",
       "      <td>BOYAULT_LIVER_CANCER_SUBCLASS_G56_DN</td>\n",
       "    </tr>\n",
       "    <tr>\n",
       "      <th>1</th>\n",
       "      <td>MAFF</td>\n",
       "      <td>chemical_and_genetic_perturbations</td>\n",
       "      <td>ELVIDGE_HYPOXIA_UP</td>\n",
       "    </tr>\n",
       "    <tr>\n",
       "      <th>2</th>\n",
       "      <td>MAFF</td>\n",
       "      <td>chemical_and_genetic_perturbations</td>\n",
       "      <td>NUYTTEN_NIPP1_TARGETS_DN</td>\n",
       "    </tr>\n",
       "    <tr>\n",
       "      <th>3</th>\n",
       "      <td>MAFF</td>\n",
       "      <td>immunesigdb</td>\n",
       "      <td>GSE17721_POLYIC_VS_GARDIQUIMOD_4H_BMDC_DN</td>\n",
       "    </tr>\n",
       "    <tr>\n",
       "      <th>4</th>\n",
       "      <td>MAFF</td>\n",
       "      <td>chemical_and_genetic_perturbations</td>\n",
       "      <td>SCHAEFFER_PROSTATE_DEVELOPMENT_12HR_UP</td>\n",
       "    </tr>\n",
       "    <tr>\n",
       "      <th>...</th>\n",
       "      <td>...</td>\n",
       "      <td>...</td>\n",
       "      <td>...</td>\n",
       "    </tr>\n",
       "    <tr>\n",
       "      <th>3838543</th>\n",
       "      <td>PRAMEF22</td>\n",
       "      <td>go_biological_process</td>\n",
       "      <td>GOBP_POSITIVE_REGULATION_OF_CELL_POPULATION_PR...</td>\n",
       "    </tr>\n",
       "    <tr>\n",
       "      <th>3838544</th>\n",
       "      <td>PRAMEF22</td>\n",
       "      <td>go_biological_process</td>\n",
       "      <td>GOBP_APOPTOTIC_PROCESS</td>\n",
       "    </tr>\n",
       "    <tr>\n",
       "      <th>3838545</th>\n",
       "      <td>PRAMEF22</td>\n",
       "      <td>go_biological_process</td>\n",
       "      <td>GOBP_REGULATION_OF_CELL_DEATH</td>\n",
       "    </tr>\n",
       "    <tr>\n",
       "      <th>3838546</th>\n",
       "      <td>PRAMEF22</td>\n",
       "      <td>go_biological_process</td>\n",
       "      <td>GOBP_NEGATIVE_REGULATION_OF_DEVELOPMENTAL_PROCESS</td>\n",
       "    </tr>\n",
       "    <tr>\n",
       "      <th>3838547</th>\n",
       "      <td>PRAMEF22</td>\n",
       "      <td>go_biological_process</td>\n",
       "      <td>GOBP_NEGATIVE_REGULATION_OF_CELL_DEATH</td>\n",
       "    </tr>\n",
       "  </tbody>\n",
       "</table>\n",
       "<p>3838548 rows × 3 columns</p>\n",
       "</div>"
      ],
      "text/plain": [
       "        genesymbol                          collection  \\\n",
       "0             MAFF  chemical_and_genetic_perturbations   \n",
       "1             MAFF  chemical_and_genetic_perturbations   \n",
       "2             MAFF  chemical_and_genetic_perturbations   \n",
       "3             MAFF                         immunesigdb   \n",
       "4             MAFF  chemical_and_genetic_perturbations   \n",
       "...            ...                                 ...   \n",
       "3838543   PRAMEF22               go_biological_process   \n",
       "3838544   PRAMEF22               go_biological_process   \n",
       "3838545   PRAMEF22               go_biological_process   \n",
       "3838546   PRAMEF22               go_biological_process   \n",
       "3838547   PRAMEF22               go_biological_process   \n",
       "\n",
       "                                                   geneset  \n",
       "0                     BOYAULT_LIVER_CANCER_SUBCLASS_G56_DN  \n",
       "1                                       ELVIDGE_HYPOXIA_UP  \n",
       "2                                 NUYTTEN_NIPP1_TARGETS_DN  \n",
       "3                GSE17721_POLYIC_VS_GARDIQUIMOD_4H_BMDC_DN  \n",
       "4                   SCHAEFFER_PROSTATE_DEVELOPMENT_12HR_UP  \n",
       "...                                                    ...  \n",
       "3838543  GOBP_POSITIVE_REGULATION_OF_CELL_POPULATION_PR...  \n",
       "3838544                             GOBP_APOPTOTIC_PROCESS  \n",
       "3838545                      GOBP_REGULATION_OF_CELL_DEATH  \n",
       "3838546  GOBP_NEGATIVE_REGULATION_OF_DEVELOPMENTAL_PROCESS  \n",
       "3838547             GOBP_NEGATIVE_REGULATION_OF_CELL_DEATH  \n",
       "\n",
       "[3838548 rows x 3 columns]"
      ]
     },
     "execution_count": 1,
     "metadata": {},
     "output_type": "execute_result"
    }
   ],
   "source": [
    "import decoupler as dc\n",
    "\n",
    "msigdb = dc.get_resource('MSigDB')\n",
    "msigdb"
   ]
  },
  {
   "cell_type": "markdown",
   "id": "0d101d50",
   "metadata": {},
   "source": [
    "For this example we will filter by the `hallmark` gene sets collection:"
   ]
  },
  {
   "cell_type": "code",
   "execution_count": 2,
   "id": "f245fda2",
   "metadata": {},
   "outputs": [
    {
     "data": {
      "text/html": [
       "<div>\n",
       "<style scoped>\n",
       "    .dataframe tbody tr th:only-of-type {\n",
       "        vertical-align: middle;\n",
       "    }\n",
       "\n",
       "    .dataframe tbody tr th {\n",
       "        vertical-align: top;\n",
       "    }\n",
       "\n",
       "    .dataframe thead th {\n",
       "        text-align: right;\n",
       "    }\n",
       "</style>\n",
       "<table border=\"1\" class=\"dataframe\">\n",
       "  <thead>\n",
       "    <tr style=\"text-align: right;\">\n",
       "      <th></th>\n",
       "      <th>genesymbol</th>\n",
       "      <th>collection</th>\n",
       "      <th>geneset</th>\n",
       "    </tr>\n",
       "  </thead>\n",
       "  <tbody>\n",
       "    <tr>\n",
       "      <th>233</th>\n",
       "      <td>MAFF</td>\n",
       "      <td>hallmark</td>\n",
       "      <td>HALLMARK_IL2_STAT5_SIGNALING</td>\n",
       "    </tr>\n",
       "    <tr>\n",
       "      <th>250</th>\n",
       "      <td>MAFF</td>\n",
       "      <td>hallmark</td>\n",
       "      <td>HALLMARK_COAGULATION</td>\n",
       "    </tr>\n",
       "    <tr>\n",
       "      <th>270</th>\n",
       "      <td>MAFF</td>\n",
       "      <td>hallmark</td>\n",
       "      <td>HALLMARK_HYPOXIA</td>\n",
       "    </tr>\n",
       "    <tr>\n",
       "      <th>373</th>\n",
       "      <td>MAFF</td>\n",
       "      <td>hallmark</td>\n",
       "      <td>HALLMARK_TNFA_SIGNALING_VIA_NFKB</td>\n",
       "    </tr>\n",
       "    <tr>\n",
       "      <th>377</th>\n",
       "      <td>MAFF</td>\n",
       "      <td>hallmark</td>\n",
       "      <td>HALLMARK_COMPLEMENT</td>\n",
       "    </tr>\n",
       "    <tr>\n",
       "      <th>...</th>\n",
       "      <td>...</td>\n",
       "      <td>...</td>\n",
       "      <td>...</td>\n",
       "    </tr>\n",
       "    <tr>\n",
       "      <th>1449668</th>\n",
       "      <td>STXBP1</td>\n",
       "      <td>hallmark</td>\n",
       "      <td>HALLMARK_PANCREAS_BETA_CELLS</td>\n",
       "    </tr>\n",
       "    <tr>\n",
       "      <th>1450315</th>\n",
       "      <td>ELP4</td>\n",
       "      <td>hallmark</td>\n",
       "      <td>HALLMARK_PANCREAS_BETA_CELLS</td>\n",
       "    </tr>\n",
       "    <tr>\n",
       "      <th>1450526</th>\n",
       "      <td>GCG</td>\n",
       "      <td>hallmark</td>\n",
       "      <td>HALLMARK_PANCREAS_BETA_CELLS</td>\n",
       "    </tr>\n",
       "    <tr>\n",
       "      <th>1450731</th>\n",
       "      <td>PCSK2</td>\n",
       "      <td>hallmark</td>\n",
       "      <td>HALLMARK_PANCREAS_BETA_CELLS</td>\n",
       "    </tr>\n",
       "    <tr>\n",
       "      <th>1450916</th>\n",
       "      <td>PAX6</td>\n",
       "      <td>hallmark</td>\n",
       "      <td>HALLMARK_PANCREAS_BETA_CELLS</td>\n",
       "    </tr>\n",
       "  </tbody>\n",
       "</table>\n",
       "<p>7318 rows × 3 columns</p>\n",
       "</div>"
      ],
      "text/plain": [
       "        genesymbol collection                           geneset\n",
       "233           MAFF   hallmark      HALLMARK_IL2_STAT5_SIGNALING\n",
       "250           MAFF   hallmark              HALLMARK_COAGULATION\n",
       "270           MAFF   hallmark                  HALLMARK_HYPOXIA\n",
       "373           MAFF   hallmark  HALLMARK_TNFA_SIGNALING_VIA_NFKB\n",
       "377           MAFF   hallmark               HALLMARK_COMPLEMENT\n",
       "...            ...        ...                               ...\n",
       "1449668     STXBP1   hallmark      HALLMARK_PANCREAS_BETA_CELLS\n",
       "1450315       ELP4   hallmark      HALLMARK_PANCREAS_BETA_CELLS\n",
       "1450526        GCG   hallmark      HALLMARK_PANCREAS_BETA_CELLS\n",
       "1450731      PCSK2   hallmark      HALLMARK_PANCREAS_BETA_CELLS\n",
       "1450916       PAX6   hallmark      HALLMARK_PANCREAS_BETA_CELLS\n",
       "\n",
       "[7318 rows x 3 columns]"
      ]
     },
     "execution_count": 2,
     "metadata": {},
     "output_type": "execute_result"
    }
   ],
   "source": [
    "# Filter by hallmark\n",
    "msigdb = msigdb[msigdb['collection']=='hallmark']\n",
    "\n",
    "# Remove duplicated entries\n",
    "msigdb = msigdb[~msigdb.duplicated(['geneset', 'genesymbol'])]\n",
    "msigdb"
   ]
  },
  {
   "cell_type": "markdown",
   "id": "f251ac85",
   "metadata": {},
   "source": [
    "Then, we can easily transform the obtained resource into mouse genes. Organisms can be defined by their common name, latin name or [NCBI Taxonomy identifier](https://www.ncbi.nlm.nih.gov/taxonomy).\n",
    "\n",
    "<div class=\"alert alert-info\">\n",
    "\n",
    "**Note**\n",
    "    \n",
    "Translating to an organism for the first time might take a while (~ 15 minutes). Since the data is stored in cache, the next times is going to run faster. If you need to reset the cache, run `rm -r .pypath/cache/`.\n",
    "\n",
    "</div>"
   ]
  },
  {
   "cell_type": "code",
   "execution_count": 3,
   "id": "9f5590e8",
   "metadata": {},
   "outputs": [
    {
     "ename": "error",
     "evalue": "Error -3 while decompressing data: invalid stored block lengths",
     "output_type": "error",
     "traceback": [
      "\u001b[0;31m---------------------------------------------------------------------------\u001b[0m",
      "\u001b[0;31merror\u001b[0m                                     Traceback (most recent call last)",
      "Cell \u001b[0;32mIn[3], line 2\u001b[0m\n\u001b[1;32m      1\u001b[0m \u001b[38;5;66;03m# Translate targets\u001b[39;00m\n\u001b[0;32m----> 2\u001b[0m mouse_msigdb \u001b[38;5;241m=\u001b[39m \u001b[43mdc\u001b[49m\u001b[38;5;241;43m.\u001b[39;49m\u001b[43mtranslate_net\u001b[49m\u001b[43m(\u001b[49m\u001b[43mmsigdb\u001b[49m\u001b[43m,\u001b[49m\u001b[43m \u001b[49m\u001b[43mtarget_organism\u001b[49m\u001b[43m \u001b[49m\u001b[38;5;241;43m=\u001b[39;49m\u001b[43m \u001b[49m\u001b[38;5;124;43m'\u001b[39;49m\u001b[38;5;124;43mmouse\u001b[39;49m\u001b[38;5;124;43m'\u001b[39;49m\u001b[43m,\u001b[49m\u001b[43m \u001b[49m\u001b[43munique_by\u001b[49m\u001b[43m \u001b[49m\u001b[38;5;241;43m=\u001b[39;49m\u001b[43m \u001b[49m\u001b[43m(\u001b[49m\u001b[38;5;124;43m'\u001b[39;49m\u001b[38;5;124;43mgeneset\u001b[39;49m\u001b[38;5;124;43m'\u001b[39;49m\u001b[43m,\u001b[49m\u001b[43m \u001b[49m\u001b[38;5;124;43m'\u001b[39;49m\u001b[38;5;124;43mgenesymbol\u001b[39;49m\u001b[38;5;124;43m'\u001b[39;49m\u001b[43m)\u001b[49m\u001b[43m)\u001b[49m\n\u001b[1;32m      3\u001b[0m mouse_msigdb\n",
      "File \u001b[0;32m~/miniconda3/envs/scverse/lib/python3.12/site-packages/decoupler/omnip.py:758\u001b[0m, in \u001b[0;36mtranslate_net\u001b[0;34m(net, columns, source_organism, target_organism, id_type, unique_by, **kwargs)\u001b[0m\n\u001b[1;32m    755\u001b[0m hom_net \u001b[38;5;241m=\u001b[39m net\u001b[38;5;241m.\u001b[39mcopy()\n\u001b[1;32m    757\u001b[0m \u001b[38;5;66;03m# Translate\u001b[39;00m\n\u001b[0;32m--> 758\u001b[0m hom_net \u001b[38;5;241m=\u001b[39m \u001b[43morthology\u001b[49m\u001b[38;5;241;43m.\u001b[39;49m\u001b[43mtranslate_df\u001b[49m\u001b[43m(\u001b[49m\n\u001b[1;32m    759\u001b[0m \u001b[43m    \u001b[49m\u001b[43mdf\u001b[49m\u001b[38;5;241;43m=\u001b[39;49m\u001b[43mhom_net\u001b[49m\u001b[43m,\u001b[49m\n\u001b[1;32m    760\u001b[0m \u001b[43m    \u001b[49m\u001b[43mtarget\u001b[49m\u001b[38;5;241;43m=\u001b[39;49m\u001b[43m_target_organism\u001b[49m\u001b[43m,\u001b[49m\n\u001b[1;32m    761\u001b[0m \u001b[43m    \u001b[49m\u001b[43mcols\u001b[49m\u001b[38;5;241;43m=\u001b[39;49m\u001b[43mcolumns\u001b[49m\u001b[43m,\u001b[49m\n\u001b[1;32m    762\u001b[0m \u001b[43m    \u001b[49m\u001b[43msource\u001b[49m\u001b[38;5;241;43m=\u001b[39;49m\u001b[43m_source_organism\u001b[49m\u001b[43m,\u001b[49m\n\u001b[1;32m    763\u001b[0m \u001b[43m\u001b[49m\u001b[43m)\u001b[49m\n\u001b[1;32m    765\u001b[0m unique_by \u001b[38;5;241m=\u001b[39m common\u001b[38;5;241m.\u001b[39mto_list(unique_by)\n\u001b[1;32m    767\u001b[0m \u001b[38;5;28;01mif\u001b[39;00m unique_by \u001b[38;5;129;01mand\u001b[39;00m \u001b[38;5;28mall\u001b[39m(c \u001b[38;5;129;01min\u001b[39;00m hom_net\u001b[38;5;241m.\u001b[39mcolumns \u001b[38;5;28;01mfor\u001b[39;00m c \u001b[38;5;129;01min\u001b[39;00m unique_by):\n\u001b[1;32m    768\u001b[0m \n\u001b[1;32m    769\u001b[0m     \u001b[38;5;66;03m# Remove duplicated based on source and target\u001b[39;00m\n",
      "File \u001b[0;32m~/miniconda3/envs/scverse/lib/python3.12/site-packages/pypath/utils/orthology.py:2262\u001b[0m, in \u001b[0;36mtranslate_df\u001b[0;34m(df, target, source, cols, id_type, only_swissprot, oma, homologene, ensembl, oma_rel_type, oma_score, ensembl_hc, ensembl_types, **kwargs)\u001b[0m\n\u001b[1;32m   2259\u001b[0m args\u001b[38;5;241m.\u001b[39mpop(\u001b[38;5;124m'\u001b[39m\u001b[38;5;124mmanager\u001b[39m\u001b[38;5;124m'\u001b[39m)\n\u001b[1;32m   2260\u001b[0m args\u001b[38;5;241m.\u001b[39mpop(\u001b[38;5;124m'\u001b[39m\u001b[38;5;124mkwargs\u001b[39m\u001b[38;5;124m'\u001b[39m)\n\u001b[0;32m-> 2262\u001b[0m \u001b[38;5;28;01mreturn\u001b[39;00m \u001b[43mmanager\u001b[49m\u001b[38;5;241;43m.\u001b[39;49m\u001b[43mtranslate_df\u001b[49m\u001b[43m(\u001b[49m\u001b[38;5;241;43m*\u001b[39;49m\u001b[38;5;241;43m*\u001b[39;49m\u001b[43margs\u001b[49m\u001b[43m,\u001b[49m\u001b[43m \u001b[49m\u001b[38;5;241;43m*\u001b[39;49m\u001b[38;5;241;43m*\u001b[39;49m\u001b[43mkwargs\u001b[49m\u001b[43m)\u001b[49m\n",
      "File \u001b[0;32m~/miniconda3/envs/scverse/lib/python3.12/site-packages/pypath/utils/orthology.py:620\u001b[0m, in \u001b[0;36mOrthologyManager.translate_df\u001b[0;34m(self, df, target, source, cols, id_type, only_swissprot, oma, homologene, ensembl, oma_rel_type, oma_score, ensembl_hc, ensembl_types, **kwargs)\u001b[0m\n\u001b[1;32m    618\u001b[0m args\u001b[38;5;241m.\u001b[39mpop(\u001b[38;5;124m'\u001b[39m\u001b[38;5;124mself\u001b[39m\u001b[38;5;124m'\u001b[39m)\n\u001b[1;32m    619\u001b[0m args[\u001b[38;5;124m'\u001b[39m\u001b[38;5;124mid_type\u001b[39m\u001b[38;5;124m'\u001b[39m] \u001b[38;5;241m=\u001b[39m _id_type\n\u001b[0;32m--> 620\u001b[0m ortho_df \u001b[38;5;241m=\u001b[39m \u001b[38;5;28;43mself\u001b[39;49m\u001b[38;5;241;43m.\u001b[39;49m\u001b[43mget_df\u001b[49m\u001b[43m(\u001b[49m\u001b[38;5;241;43m*\u001b[39;49m\u001b[38;5;241;43m*\u001b[39;49m\u001b[43margs\u001b[49m\u001b[43m)\u001b[49m\n\u001b[1;32m    622\u001b[0m table \u001b[38;5;241m=\u001b[39m \u001b[38;5;28mself\u001b[39m\u001b[38;5;241m.\u001b[39mwhich_table(\n\u001b[1;32m    623\u001b[0m     target \u001b[38;5;241m=\u001b[39m target,\n\u001b[1;32m    624\u001b[0m     source \u001b[38;5;241m=\u001b[39m source,\n\u001b[0;32m   (...)\u001b[0m\n\u001b[1;32m    627\u001b[0m     resource \u001b[38;5;241m=\u001b[39m \u001b[38;5;124m'\u001b[39m\u001b[38;5;124moma\u001b[39m\u001b[38;5;124m'\u001b[39m,\n\u001b[1;32m    628\u001b[0m )\n\u001b[1;32m    630\u001b[0m df \u001b[38;5;241m=\u001b[39m table\u001b[38;5;241m.\u001b[39mtranslate_df(\n\u001b[1;32m    631\u001b[0m     df \u001b[38;5;241m=\u001b[39m df,\n\u001b[1;32m    632\u001b[0m     cols \u001b[38;5;241m=\u001b[39m [c \u001b[38;5;28;01mfor\u001b[39;00m c, i \u001b[38;5;129;01min\u001b[39;00m cols\u001b[38;5;241m.\u001b[39mitems() \u001b[38;5;28;01mif\u001b[39;00m i \u001b[38;5;241m==\u001b[39m _id_type],\n\u001b[1;32m    633\u001b[0m     ortho_df \u001b[38;5;241m=\u001b[39m ortho_df,\n\u001b[1;32m    634\u001b[0m )\n",
      "File \u001b[0;32m~/miniconda3/envs/scverse/lib/python3.12/site-packages/pypath/utils/orthology.py:515\u001b[0m, in \u001b[0;36mOrthologyManager.get_df\u001b[0;34m(self, target, source, id_type, only_swissprot, oma, homologene, ensembl, oma_rel_type, oma_score, ensembl_hc, ensembl_types, full_records, **kwargs)\u001b[0m\n\u001b[1;32m    511\u001b[0m     \u001b[38;5;28;01mif\u001b[39;00m \u001b[38;5;129;01mnot\u001b[39;00m param[resource]:\n\u001b[1;32m    513\u001b[0m         \u001b[38;5;28;01mcontinue\u001b[39;00m\n\u001b[0;32m--> 515\u001b[0m     table \u001b[38;5;241m=\u001b[39m \u001b[38;5;28;43mself\u001b[39;49m\u001b[38;5;241;43m.\u001b[39;49m\u001b[43mwhich_table\u001b[49m\u001b[43m(\u001b[49m\n\u001b[1;32m    516\u001b[0m \u001b[43m        \u001b[49m\u001b[43mtarget\u001b[49m\u001b[43m \u001b[49m\u001b[38;5;241;43m=\u001b[39;49m\u001b[43m \u001b[49m\u001b[43mtarget\u001b[49m\u001b[43m,\u001b[49m\n\u001b[1;32m    517\u001b[0m \u001b[43m        \u001b[49m\u001b[43msource\u001b[49m\u001b[43m \u001b[49m\u001b[38;5;241;43m=\u001b[39;49m\u001b[43m \u001b[49m\u001b[43msource\u001b[49m\u001b[43m,\u001b[49m\n\u001b[1;32m    518\u001b[0m \u001b[43m        \u001b[49m\u001b[43monly_swissprot\u001b[49m\u001b[43m \u001b[49m\u001b[38;5;241;43m=\u001b[39;49m\u001b[43m \u001b[49m\u001b[43monly_swissprot\u001b[49m\u001b[43m,\u001b[49m\n\u001b[1;32m    519\u001b[0m \u001b[43m        \u001b[49m\u001b[43mid_type\u001b[49m\u001b[43m \u001b[49m\u001b[38;5;241;43m=\u001b[39;49m\u001b[43m \u001b[49m\u001b[43mid_type\u001b[49m\u001b[43m,\u001b[49m\n\u001b[1;32m    520\u001b[0m \u001b[43m        \u001b[49m\u001b[43mresource\u001b[49m\u001b[43m \u001b[49m\u001b[38;5;241;43m=\u001b[39;49m\u001b[43m \u001b[49m\u001b[43mresource\u001b[49m\u001b[43m,\u001b[49m\n\u001b[1;32m    521\u001b[0m \u001b[43m    \u001b[49m\u001b[43m)\u001b[49m\n\u001b[1;32m    523\u001b[0m     result\u001b[38;5;241m.\u001b[39mappend(\n\u001b[1;32m    524\u001b[0m         table\u001b[38;5;241m.\u001b[39mdf(\n\u001b[1;32m    525\u001b[0m             full_records \u001b[38;5;241m=\u001b[39m full_records,\n\u001b[0;32m   (...)\u001b[0m\n\u001b[1;32m    531\u001b[0m         )\n\u001b[1;32m    532\u001b[0m     )\n\u001b[1;32m    534\u001b[0m \u001b[38;5;28;01mreturn\u001b[39;00m pd\u001b[38;5;241m.\u001b[39mconcat(result)\n",
      "File \u001b[0;32m~/miniconda3/envs/scverse/lib/python3.12/site-packages/pypath/utils/orthology.py:233\u001b[0m, in \u001b[0;36mOrthologyManager.which_table\u001b[0;34m(self, target, source, only_swissprot, resource, id_type)\u001b[0m\n\u001b[1;32m    229\u001b[0m \u001b[38;5;28mself\u001b[39m\u001b[38;5;241m.\u001b[39mexpiry[key] \u001b[38;5;241m=\u001b[39m time\u001b[38;5;241m.\u001b[39mtime()\n\u001b[1;32m    231\u001b[0m \u001b[38;5;28;01mif\u001b[39;00m key \u001b[38;5;129;01mnot\u001b[39;00m \u001b[38;5;129;01min\u001b[39;00m \u001b[38;5;28mself\u001b[39m\u001b[38;5;241m.\u001b[39mtables:\n\u001b[0;32m--> 233\u001b[0m     \u001b[38;5;28;43mself\u001b[39;49m\u001b[38;5;241;43m.\u001b[39;49m\u001b[43mload\u001b[49m\u001b[43m(\u001b[49m\u001b[43mkey\u001b[49m\u001b[43m)\u001b[49m\n\u001b[1;32m    235\u001b[0m \u001b[38;5;28;01mif\u001b[39;00m key \u001b[38;5;129;01min\u001b[39;00m \u001b[38;5;28mself\u001b[39m\u001b[38;5;241m.\u001b[39mtables:\n\u001b[1;32m    237\u001b[0m     \u001b[38;5;28;01mreturn\u001b[39;00m \u001b[38;5;28mself\u001b[39m\u001b[38;5;241m.\u001b[39mtables[key]\n",
      "File \u001b[0;32m~/miniconda3/envs/scverse/lib/python3.12/site-packages/pypath/utils/orthology.py:242\u001b[0m, in \u001b[0;36mOrthologyManager.load\u001b[0;34m(self, key)\u001b[0m\n\u001b[1;32m    240\u001b[0m \u001b[38;5;28;01mdef\u001b[39;00m \u001b[38;5;21mload\u001b[39m(\u001b[38;5;28mself\u001b[39m, key):\n\u001b[0;32m--> 242\u001b[0m     \u001b[38;5;28mself\u001b[39m\u001b[38;5;241m.\u001b[39mtables[key] \u001b[38;5;241m=\u001b[39m \u001b[38;5;28;43mglobals\u001b[39;49m\u001b[43m(\u001b[49m\u001b[43m)\u001b[49m\u001b[43m[\u001b[49m\u001b[38;5;124;43mf\u001b[39;49m\u001b[38;5;124;43m'\u001b[39;49m\u001b[38;5;132;43;01m{\u001b[39;49;00m\u001b[43mkey\u001b[49m\u001b[38;5;241;43m.\u001b[39;49m\u001b[43mresource\u001b[49m\u001b[38;5;241;43m.\u001b[39;49m\u001b[43mcapitalize\u001b[49m\u001b[43m(\u001b[49m\u001b[43m)\u001b[49m\u001b[38;5;132;43;01m}\u001b[39;49;00m\u001b[38;5;124;43mOrthology\u001b[39;49m\u001b[38;5;124;43m'\u001b[39;49m\u001b[43m]\u001b[49m\u001b[43m(\u001b[49m\n\u001b[1;32m    243\u001b[0m \u001b[43m        \u001b[49m\u001b[43mtarget\u001b[49m\u001b[43m \u001b[49m\u001b[38;5;241;43m=\u001b[39;49m\u001b[43m \u001b[49m\u001b[43mkey\u001b[49m\u001b[38;5;241;43m.\u001b[39;49m\u001b[43mtarget\u001b[49m\u001b[43m,\u001b[49m\n\u001b[1;32m    244\u001b[0m \u001b[43m        \u001b[49m\u001b[43msource\u001b[49m\u001b[43m \u001b[49m\u001b[38;5;241;43m=\u001b[39;49m\u001b[43m \u001b[49m\u001b[43mkey\u001b[49m\u001b[38;5;241;43m.\u001b[39;49m\u001b[43msource\u001b[49m\u001b[43m,\u001b[49m\n\u001b[1;32m    245\u001b[0m \u001b[43m        \u001b[49m\u001b[43monly_swissprot\u001b[49m\u001b[43m \u001b[49m\u001b[38;5;241;43m=\u001b[39;49m\u001b[43m \u001b[49m\u001b[43mkey\u001b[49m\u001b[38;5;241;43m.\u001b[39;49m\u001b[43monly_swissprot\u001b[49m\u001b[43m,\u001b[49m\n\u001b[1;32m    246\u001b[0m \u001b[43m        \u001b[49m\u001b[43mid_type\u001b[49m\u001b[43m \u001b[49m\u001b[38;5;241;43m=\u001b[39;49m\u001b[43m \u001b[49m\u001b[43mkey\u001b[49m\u001b[38;5;241;43m.\u001b[39;49m\u001b[43mid_type\u001b[49m\u001b[43m,\u001b[49m\n\u001b[1;32m    247\u001b[0m \u001b[43m    \u001b[49m\u001b[43m)\u001b[49m\n",
      "File \u001b[0;32m~/miniconda3/envs/scverse/lib/python3.12/site-packages/pypath/utils/orthology.py:1492\u001b[0m, in \u001b[0;36mOmaOrthology.__init__\u001b[0;34m(self, target, source, id_type, only_swissprot, rel_type, score)\u001b[0m\n\u001b[1;32m   1462\u001b[0m \u001b[38;5;28;01mdef\u001b[39;00m \u001b[38;5;21m__init__\u001b[39m(\n\u001b[1;32m   1463\u001b[0m         \u001b[38;5;28mself\u001b[39m,\n\u001b[1;32m   1464\u001b[0m         target: \u001b[38;5;28mint\u001b[39m \u001b[38;5;241m|\u001b[39m \u001b[38;5;28mstr\u001b[39m,\n\u001b[0;32m   (...)\u001b[0m\n\u001b[1;32m   1472\u001b[0m         score: \u001b[38;5;28mfloat\u001b[39m \u001b[38;5;241m|\u001b[39m \u001b[38;5;28;01mNone\u001b[39;00m \u001b[38;5;241m=\u001b[39m \u001b[38;5;28;01mNone\u001b[39;00m,\n\u001b[1;32m   1473\u001b[0m     ):\n\u001b[1;32m   1474\u001b[0m \u001b[38;5;250m    \u001b[39m\u001b[38;5;124;03m\"\"\"\u001b[39;00m\n\u001b[1;32m   1475\u001b[0m \u001b[38;5;124;03m    Orthology translation with Ensembl data.\u001b[39;00m\n\u001b[1;32m   1476\u001b[0m \n\u001b[0;32m   (...)\u001b[0m\n\u001b[1;32m   1489\u001b[0m \u001b[38;5;124;03m            Lower threshold for similarity metric.\u001b[39;00m\n\u001b[1;32m   1490\u001b[0m \u001b[38;5;124;03m    \"\"\"\u001b[39;00m\n\u001b[0;32m-> 1492\u001b[0m     \u001b[43mProteinOrthology\u001b[49m\u001b[38;5;241;43m.\u001b[39;49m\u001b[38;5;21;43m__init__\u001b[39;49m\u001b[43m(\u001b[49m\u001b[38;5;241;43m*\u001b[39;49m\u001b[38;5;241;43m*\u001b[39;49m\u001b[38;5;28;43mlocals\u001b[39;49m\u001b[43m(\u001b[49m\u001b[43m)\u001b[49m\u001b[43m)\u001b[49m\n",
      "File \u001b[0;32m~/miniconda3/envs/scverse/lib/python3.12/site-packages/pypath/utils/orthology.py:869\u001b[0m, in \u001b[0;36mProteinOrthology.__init__\u001b[0;34m(self, target, source, id_type, only_swissprot, **kwargs)\u001b[0m\n\u001b[1;32m    867\u001b[0m \u001b[38;5;28mself\u001b[39m\u001b[38;5;241m.\u001b[39mload_proteome(\u001b[38;5;28mself\u001b[39m\u001b[38;5;241m.\u001b[39msource)\n\u001b[1;32m    868\u001b[0m \u001b[38;5;28mself\u001b[39m\u001b[38;5;241m.\u001b[39m_set_param(kwargs, \u001b[38;5;241m*\u001b[39m\u001b[38;5;28mself\u001b[39m\u001b[38;5;241m.\u001b[39m_param)\n\u001b[0;32m--> 869\u001b[0m \u001b[38;5;28;43mself\u001b[39;49m\u001b[38;5;241;43m.\u001b[39;49m\u001b[43mload\u001b[49m\u001b[43m(\u001b[49m\u001b[43m)\u001b[49m\n",
      "File \u001b[0;32m~/miniconda3/envs/scverse/lib/python3.12/site-packages/pypath/utils/orthology.py:1506\u001b[0m, in \u001b[0;36mOmaOrthology.load\u001b[0;34m(self)\u001b[0m\n\u001b[1;32m   1502\u001b[0m \u001b[38;5;28;01mif\u001b[39;00m \u001b[38;5;28mself\u001b[39m\u001b[38;5;241m.\u001b[39m_from_pickle():\n\u001b[1;32m   1504\u001b[0m     \u001b[38;5;28;01mreturn\u001b[39;00m\n\u001b[0;32m-> 1506\u001b[0m oma_data \u001b[38;5;241m=\u001b[39m \u001b[43moma_input\u001b[49m\u001b[38;5;241;43m.\u001b[39;49m\u001b[43moma_orthologs\u001b[49m\u001b[43m(\u001b[49m\n\u001b[1;32m   1507\u001b[0m \u001b[43m    \u001b[49m\u001b[43morganism_a\u001b[49m\u001b[43m \u001b[49m\u001b[38;5;241;43m=\u001b[39;49m\u001b[43m \u001b[49m\u001b[38;5;28;43mself\u001b[39;49m\u001b[38;5;241;43m.\u001b[39;49m\u001b[43msource\u001b[49m\u001b[43m,\u001b[49m\n\u001b[1;32m   1508\u001b[0m \u001b[43m    \u001b[49m\u001b[43morganism_b\u001b[49m\u001b[43m \u001b[49m\u001b[38;5;241;43m=\u001b[39;49m\u001b[43m \u001b[49m\u001b[38;5;28;43mself\u001b[39;49m\u001b[38;5;241;43m.\u001b[39;49m\u001b[43mtarget\u001b[49m\u001b[43m,\u001b[49m\n\u001b[1;32m   1509\u001b[0m \u001b[43m    \u001b[49m\u001b[43mid_type\u001b[49m\u001b[43m \u001b[49m\u001b[38;5;241;43m=\u001b[39;49m\u001b[43m \u001b[49m\u001b[38;5;28;43mself\u001b[39;49m\u001b[38;5;241;43m.\u001b[39;49m\u001b[43mid_type\u001b[49m\u001b[43m,\u001b[49m\n\u001b[1;32m   1510\u001b[0m \u001b[43m\u001b[49m\u001b[43m)\u001b[49m\n\u001b[1;32m   1511\u001b[0m \u001b[38;5;28mself\u001b[39m\u001b[38;5;241m.\u001b[39mdata \u001b[38;5;241m=\u001b[39m collections\u001b[38;5;241m.\u001b[39mdefaultdict(\u001b[38;5;28mset\u001b[39m)\n\u001b[1;32m   1513\u001b[0m \u001b[38;5;28;01mfor\u001b[39;00m rec \u001b[38;5;129;01min\u001b[39;00m oma_data:\n",
      "File \u001b[0;32m~/miniconda3/envs/scverse/lib/python3.12/site-packages/pypath/inputs/oma.py:125\u001b[0m, in \u001b[0;36moma_orthologs\u001b[0;34m(organism_a, organism_b, id_type, rel_type, score, return_df)\u001b[0m\n\u001b[1;32m    119\u001b[0m     \u001b[38;5;28;01mif\u001b[39;00m (\n\u001b[1;32m    120\u001b[0m         (score \u001b[38;5;129;01mand\u001b[39;00m rec[\u001b[38;5;124m'\u001b[39m\u001b[38;5;124mscore\u001b[39m\u001b[38;5;124m'\u001b[39m] \u001b[38;5;241m<\u001b[39m score) \u001b[38;5;129;01mor\u001b[39;00m\n\u001b[1;32m    121\u001b[0m         (rel_type \u001b[38;5;129;01mand\u001b[39;00m rec[\u001b[38;5;124m'\u001b[39m\u001b[38;5;124mrel_type\u001b[39m\u001b[38;5;124m'\u001b[39m] \u001b[38;5;129;01mnot\u001b[39;00m \u001b[38;5;129;01min\u001b[39;00m rel_type)\n\u001b[1;32m    122\u001b[0m     ):\n\u001b[1;32m    123\u001b[0m         \u001b[38;5;28;01mcontinue\u001b[39;00m\n\u001b[0;32m--> 125\u001b[0m     a, b \u001b[38;5;241m=\u001b[39m (\n\u001b[1;32m    126\u001b[0m         [\n\u001b[1;32m    127\u001b[0m             OmaGene(\n\u001b[1;32m    128\u001b[0m                 \u001b[38;5;28mid\u001b[39m \u001b[38;5;241m=\u001b[39m id_,\n\u001b[1;32m    129\u001b[0m                 oma_group \u001b[38;5;241m=\u001b[39m e[\u001b[38;5;124m'\u001b[39m\u001b[38;5;124moma_group\u001b[39m\u001b[38;5;124m'\u001b[39m],\n\u001b[1;32m    130\u001b[0m                 hog \u001b[38;5;241m=\u001b[39m e[\u001b[38;5;124m'\u001b[39m\u001b[38;5;124moma_hog_id\u001b[39m\u001b[38;5;124m'\u001b[39m],\n\u001b[1;32m    131\u001b[0m                 taxon \u001b[38;5;241m=\u001b[39m e[\u001b[38;5;124m'\u001b[39m\u001b[38;5;124mspecies\u001b[39m\u001b[38;5;124m'\u001b[39m][\u001b[38;5;124m'\u001b[39m\u001b[38;5;124mtaxon_id\u001b[39m\u001b[38;5;124m'\u001b[39m],\n\u001b[1;32m    132\u001b[0m                 \u001b[38;5;28mchr\u001b[39m \u001b[38;5;241m=\u001b[39m e[\u001b[38;5;124m'\u001b[39m\u001b[38;5;124mchromosome\u001b[39m\u001b[38;5;124m'\u001b[39m],\n\u001b[1;32m    133\u001b[0m                 start \u001b[38;5;241m=\u001b[39m \u001b[38;5;28mint\u001b[39m(e[\u001b[38;5;124m'\u001b[39m\u001b[38;5;124mlocus\u001b[39m\u001b[38;5;124m'\u001b[39m][\u001b[38;5;124m'\u001b[39m\u001b[38;5;124mstart\u001b[39m\u001b[38;5;124m'\u001b[39m]),\n\u001b[1;32m    134\u001b[0m                 end \u001b[38;5;241m=\u001b[39m \u001b[38;5;28mint\u001b[39m(e[\u001b[38;5;124m'\u001b[39m\u001b[38;5;124mlocus\u001b[39m\u001b[38;5;124m'\u001b[39m][\u001b[38;5;124m'\u001b[39m\u001b[38;5;124mend\u001b[39m\u001b[38;5;124m'\u001b[39m]),\n\u001b[1;32m    135\u001b[0m                 strand \u001b[38;5;241m=\u001b[39m \u001b[38;5;28mint\u001b[39m(e[\u001b[38;5;124m'\u001b[39m\u001b[38;5;124mlocus\u001b[39m\u001b[38;5;124m'\u001b[39m][\u001b[38;5;124m'\u001b[39m\u001b[38;5;124mstrand\u001b[39m\u001b[38;5;124m'\u001b[39m]),\n\u001b[1;32m    136\u001b[0m                 main_isoform \u001b[38;5;241m=\u001b[39m e[\u001b[38;5;124m'\u001b[39m\u001b[38;5;124mis_main_isoform\u001b[39m\u001b[38;5;124m'\u001b[39m],\n\u001b[1;32m    137\u001b[0m \n\u001b[1;32m    138\u001b[0m             )\n\u001b[1;32m    139\u001b[0m             \u001b[38;5;28;01mfor\u001b[39;00m id_ \u001b[38;5;129;01min\u001b[39;00m _id_translate(\n\u001b[1;32m    140\u001b[0m                 id_ \u001b[38;5;241m=\u001b[39m e[\u001b[38;5;124m'\u001b[39m\u001b[38;5;124mcanonicalid\u001b[39m\u001b[38;5;124m'\u001b[39m],\n\u001b[1;32m    141\u001b[0m                 taxon \u001b[38;5;241m=\u001b[39m e[\u001b[38;5;124m'\u001b[39m\u001b[38;5;124mspecies\u001b[39m\u001b[38;5;124m'\u001b[39m][\u001b[38;5;124m'\u001b[39m\u001b[38;5;124mtaxon_id\u001b[39m\u001b[38;5;124m'\u001b[39m],\n\u001b[1;32m    142\u001b[0m                 id_type \u001b[38;5;241m=\u001b[39m id_type,\n\u001b[1;32m    143\u001b[0m             )\n\u001b[1;32m    144\u001b[0m         ]\n\u001b[1;32m    145\u001b[0m         \u001b[38;5;28;01mfor\u001b[39;00m e \u001b[38;5;129;01min\u001b[39;00m (rec[\u001b[38;5;124mf\u001b[39m\u001b[38;5;124m'\u001b[39m\u001b[38;5;124mentry_\u001b[39m\u001b[38;5;132;01m{\u001b[39;00mei\u001b[38;5;132;01m}\u001b[39;00m\u001b[38;5;124m'\u001b[39m] \u001b[38;5;28;01mfor\u001b[39;00m ei \u001b[38;5;129;01min\u001b[39;00m (\u001b[38;5;241m1\u001b[39m, \u001b[38;5;241m2\u001b[39m))\n\u001b[1;32m    146\u001b[0m     )\n\u001b[1;32m    149\u001b[0m     result\u001b[38;5;241m.\u001b[39mupdate(\n\u001b[1;32m    150\u001b[0m         {\n\u001b[1;32m    151\u001b[0m             OmaOrthology(\n\u001b[0;32m   (...)\u001b[0m\n\u001b[1;32m    159\u001b[0m         }\n\u001b[1;32m    160\u001b[0m     )\n\u001b[1;32m    162\u001b[0m \u001b[38;5;28;01mif\u001b[39;00m page \u001b[38;5;241m>\u001b[39m n_pages: \u001b[38;5;28;01mbreak\u001b[39;00m\n",
      "File \u001b[0;32m~/miniconda3/envs/scverse/lib/python3.12/site-packages/pypath/inputs/oma.py:139\u001b[0m, in \u001b[0;36m<genexpr>\u001b[0;34m(.0)\u001b[0m\n\u001b[1;32m    119\u001b[0m     \u001b[38;5;28;01mif\u001b[39;00m (\n\u001b[1;32m    120\u001b[0m         (score \u001b[38;5;129;01mand\u001b[39;00m rec[\u001b[38;5;124m'\u001b[39m\u001b[38;5;124mscore\u001b[39m\u001b[38;5;124m'\u001b[39m] \u001b[38;5;241m<\u001b[39m score) \u001b[38;5;129;01mor\u001b[39;00m\n\u001b[1;32m    121\u001b[0m         (rel_type \u001b[38;5;129;01mand\u001b[39;00m rec[\u001b[38;5;124m'\u001b[39m\u001b[38;5;124mrel_type\u001b[39m\u001b[38;5;124m'\u001b[39m] \u001b[38;5;129;01mnot\u001b[39;00m \u001b[38;5;129;01min\u001b[39;00m rel_type)\n\u001b[1;32m    122\u001b[0m     ):\n\u001b[1;32m    123\u001b[0m         \u001b[38;5;28;01mcontinue\u001b[39;00m\n\u001b[1;32m    125\u001b[0m     a, b \u001b[38;5;241m=\u001b[39m (\n\u001b[1;32m    126\u001b[0m         [\n\u001b[1;32m    127\u001b[0m             OmaGene(\n\u001b[1;32m    128\u001b[0m                 \u001b[38;5;28mid\u001b[39m \u001b[38;5;241m=\u001b[39m id_,\n\u001b[1;32m    129\u001b[0m                 oma_group \u001b[38;5;241m=\u001b[39m e[\u001b[38;5;124m'\u001b[39m\u001b[38;5;124moma_group\u001b[39m\u001b[38;5;124m'\u001b[39m],\n\u001b[1;32m    130\u001b[0m                 hog \u001b[38;5;241m=\u001b[39m e[\u001b[38;5;124m'\u001b[39m\u001b[38;5;124moma_hog_id\u001b[39m\u001b[38;5;124m'\u001b[39m],\n\u001b[1;32m    131\u001b[0m                 taxon \u001b[38;5;241m=\u001b[39m e[\u001b[38;5;124m'\u001b[39m\u001b[38;5;124mspecies\u001b[39m\u001b[38;5;124m'\u001b[39m][\u001b[38;5;124m'\u001b[39m\u001b[38;5;124mtaxon_id\u001b[39m\u001b[38;5;124m'\u001b[39m],\n\u001b[1;32m    132\u001b[0m                 \u001b[38;5;28mchr\u001b[39m \u001b[38;5;241m=\u001b[39m e[\u001b[38;5;124m'\u001b[39m\u001b[38;5;124mchromosome\u001b[39m\u001b[38;5;124m'\u001b[39m],\n\u001b[1;32m    133\u001b[0m                 start \u001b[38;5;241m=\u001b[39m \u001b[38;5;28mint\u001b[39m(e[\u001b[38;5;124m'\u001b[39m\u001b[38;5;124mlocus\u001b[39m\u001b[38;5;124m'\u001b[39m][\u001b[38;5;124m'\u001b[39m\u001b[38;5;124mstart\u001b[39m\u001b[38;5;124m'\u001b[39m]),\n\u001b[1;32m    134\u001b[0m                 end \u001b[38;5;241m=\u001b[39m \u001b[38;5;28mint\u001b[39m(e[\u001b[38;5;124m'\u001b[39m\u001b[38;5;124mlocus\u001b[39m\u001b[38;5;124m'\u001b[39m][\u001b[38;5;124m'\u001b[39m\u001b[38;5;124mend\u001b[39m\u001b[38;5;124m'\u001b[39m]),\n\u001b[1;32m    135\u001b[0m                 strand \u001b[38;5;241m=\u001b[39m \u001b[38;5;28mint\u001b[39m(e[\u001b[38;5;124m'\u001b[39m\u001b[38;5;124mlocus\u001b[39m\u001b[38;5;124m'\u001b[39m][\u001b[38;5;124m'\u001b[39m\u001b[38;5;124mstrand\u001b[39m\u001b[38;5;124m'\u001b[39m]),\n\u001b[1;32m    136\u001b[0m                 main_isoform \u001b[38;5;241m=\u001b[39m e[\u001b[38;5;124m'\u001b[39m\u001b[38;5;124mis_main_isoform\u001b[39m\u001b[38;5;124m'\u001b[39m],\n\u001b[1;32m    137\u001b[0m \n\u001b[1;32m    138\u001b[0m             )\n\u001b[0;32m--> 139\u001b[0m             \u001b[38;5;28;01mfor\u001b[39;00m id_ \u001b[38;5;129;01min\u001b[39;00m \u001b[43m_id_translate\u001b[49m\u001b[43m(\u001b[49m\n\u001b[1;32m    140\u001b[0m \u001b[43m                \u001b[49m\u001b[43mid_\u001b[49m\u001b[43m \u001b[49m\u001b[38;5;241;43m=\u001b[39;49m\u001b[43m \u001b[49m\u001b[43me\u001b[49m\u001b[43m[\u001b[49m\u001b[38;5;124;43m'\u001b[39;49m\u001b[38;5;124;43mcanonicalid\u001b[39;49m\u001b[38;5;124;43m'\u001b[39;49m\u001b[43m]\u001b[49m\u001b[43m,\u001b[49m\n\u001b[1;32m    141\u001b[0m \u001b[43m                \u001b[49m\u001b[43mtaxon\u001b[49m\u001b[43m \u001b[49m\u001b[38;5;241;43m=\u001b[39;49m\u001b[43m \u001b[49m\u001b[43me\u001b[49m\u001b[43m[\u001b[49m\u001b[38;5;124;43m'\u001b[39;49m\u001b[38;5;124;43mspecies\u001b[39;49m\u001b[38;5;124;43m'\u001b[39;49m\u001b[43m]\u001b[49m\u001b[43m[\u001b[49m\u001b[38;5;124;43m'\u001b[39;49m\u001b[38;5;124;43mtaxon_id\u001b[39;49m\u001b[38;5;124;43m'\u001b[39;49m\u001b[43m]\u001b[49m\u001b[43m,\u001b[49m\n\u001b[1;32m    142\u001b[0m \u001b[43m                \u001b[49m\u001b[43mid_type\u001b[49m\u001b[43m \u001b[49m\u001b[38;5;241;43m=\u001b[39;49m\u001b[43m \u001b[49m\u001b[43mid_type\u001b[49m\u001b[43m,\u001b[49m\n\u001b[1;32m    143\u001b[0m \u001b[43m            \u001b[49m\u001b[43m)\u001b[49m\n\u001b[1;32m    144\u001b[0m         ]\n\u001b[1;32m    145\u001b[0m         \u001b[38;5;28;01mfor\u001b[39;00m e \u001b[38;5;129;01min\u001b[39;00m (rec[\u001b[38;5;124mf\u001b[39m\u001b[38;5;124m'\u001b[39m\u001b[38;5;124mentry_\u001b[39m\u001b[38;5;132;01m{\u001b[39;00mei\u001b[38;5;132;01m}\u001b[39;00m\u001b[38;5;124m'\u001b[39m] \u001b[38;5;28;01mfor\u001b[39;00m ei \u001b[38;5;129;01min\u001b[39;00m (\u001b[38;5;241m1\u001b[39m, \u001b[38;5;241m2\u001b[39m))\n\u001b[1;32m    146\u001b[0m     )\n\u001b[1;32m    149\u001b[0m     result\u001b[38;5;241m.\u001b[39mupdate(\n\u001b[1;32m    150\u001b[0m         {\n\u001b[1;32m    151\u001b[0m             OmaOrthology(\n\u001b[0;32m   (...)\u001b[0m\n\u001b[1;32m    159\u001b[0m         }\n\u001b[1;32m    160\u001b[0m     )\n\u001b[1;32m    162\u001b[0m \u001b[38;5;28;01mif\u001b[39;00m page \u001b[38;5;241m>\u001b[39m n_pages: \u001b[38;5;28;01mbreak\u001b[39;00m\n",
      "File \u001b[0;32m~/miniconda3/envs/scverse/lib/python3.12/site-packages/pypath/inputs/oma.py:244\u001b[0m, in \u001b[0;36m_id_translate\u001b[0;34m(id_, taxon, id_type)\u001b[0m\n\u001b[1;32m    234\u001b[0m \u001b[38;5;28;01mif\u001b[39;00m \u001b[38;5;129;01mnot\u001b[39;00m id_type: \u001b[38;5;28;01mreturn\u001b[39;00m {id_}\n\u001b[1;32m    236\u001b[0m s_id_type \u001b[38;5;241m=\u001b[39m (\n\u001b[1;32m    237\u001b[0m     \u001b[38;5;124m'\u001b[39m\u001b[38;5;124mensg\u001b[39m\u001b[38;5;124m'\u001b[39m\n\u001b[1;32m    238\u001b[0m         \u001b[38;5;28;01mif\u001b[39;00m id_\u001b[38;5;241m.\u001b[39mstartswith(\u001b[38;5;124m'\u001b[39m\u001b[38;5;124mENS\u001b[39m\u001b[38;5;124m'\u001b[39m) \u001b[38;5;28;01melse\u001b[39;00m\n\u001b[0;32m   (...)\u001b[0m\n\u001b[1;32m    241\u001b[0m     \u001b[38;5;124m'\u001b[39m\u001b[38;5;124muniprot\u001b[39m\u001b[38;5;124m'\u001b[39m\n\u001b[1;32m    242\u001b[0m )\n\u001b[0;32m--> 244\u001b[0m uniprots \u001b[38;5;241m=\u001b[39m \u001b[43mmapping\u001b[49m\u001b[38;5;241;43m.\u001b[39;49m\u001b[43mmap_name\u001b[49m\u001b[43m(\u001b[49m\n\u001b[1;32m    245\u001b[0m \u001b[43m    \u001b[49m\u001b[43mid_\u001b[49m\u001b[43m,\u001b[49m\n\u001b[1;32m    246\u001b[0m \u001b[43m    \u001b[49m\u001b[43ms_id_type\u001b[49m\u001b[43m,\u001b[49m\n\u001b[1;32m    247\u001b[0m \u001b[43m    \u001b[49m\u001b[38;5;124;43m'\u001b[39;49m\u001b[38;5;124;43muniprot\u001b[39;49m\u001b[38;5;124;43m'\u001b[39;49m\u001b[43m,\u001b[49m\n\u001b[1;32m    248\u001b[0m \u001b[43m    \u001b[49m\u001b[43mncbi_tax_id\u001b[49m\u001b[43m \u001b[49m\u001b[38;5;241;43m=\u001b[39;49m\u001b[43m \u001b[49m\u001b[43mtaxon\u001b[49m\u001b[43m,\u001b[49m\n\u001b[1;32m    249\u001b[0m \u001b[43m\u001b[49m\u001b[43m)\u001b[49m\n\u001b[1;32m    251\u001b[0m \u001b[38;5;28;01mreturn\u001b[39;00m mapping\u001b[38;5;241m.\u001b[39mmap_names(\n\u001b[1;32m    252\u001b[0m     uniprots,\n\u001b[1;32m    253\u001b[0m     \u001b[38;5;124m'\u001b[39m\u001b[38;5;124muniprot\u001b[39m\u001b[38;5;124m'\u001b[39m,\n\u001b[1;32m    254\u001b[0m     id_type,\n\u001b[1;32m    255\u001b[0m     ncbi_tax_id \u001b[38;5;241m=\u001b[39m taxon,\n\u001b[1;32m    256\u001b[0m ) \u001b[38;5;28;01mif\u001b[39;00m uniprots \u001b[38;5;28;01melse\u001b[39;00m \u001b[38;5;28mset\u001b[39m()\n",
      "File \u001b[0;32m~/miniconda3/envs/scverse/lib/python3.12/site-packages/pypath/utils/mapping.py:3551\u001b[0m, in \u001b[0;36mmap_name\u001b[0;34m(name, id_type, target_id_type, ncbi_tax_id, strict, expand_complexes, uniprot_cleanup)\u001b[0m\n\u001b[1;32m   3498\u001b[0m \u001b[38;5;250m\u001b[39m\u001b[38;5;124;03m\"\"\"\u001b[39;00m\n\u001b[1;32m   3499\u001b[0m \u001b[38;5;124;03mTranslates one instance of one ID type to a different one.\u001b[39;00m\n\u001b[1;32m   3500\u001b[0m \u001b[38;5;124;03mReturns set of the target ID type.\u001b[39;00m\n\u001b[0;32m   (...)\u001b[0m\n\u001b[1;32m   3546\u001b[0m \u001b[38;5;124;03m        ID, call the `uniprot_cleanup` function at the end.\u001b[39;00m\n\u001b[1;32m   3547\u001b[0m \u001b[38;5;124;03m\"\"\"\u001b[39;00m\n\u001b[1;32m   3549\u001b[0m mapper \u001b[38;5;241m=\u001b[39m get_mapper()\n\u001b[0;32m-> 3551\u001b[0m \u001b[38;5;28;01mreturn\u001b[39;00m \u001b[43mmapper\u001b[49m\u001b[38;5;241;43m.\u001b[39;49m\u001b[43mmap_name\u001b[49m\u001b[43m(\u001b[49m\n\u001b[1;32m   3552\u001b[0m \u001b[43m    \u001b[49m\u001b[43mname\u001b[49m\u001b[43m \u001b[49m\u001b[38;5;241;43m=\u001b[39;49m\u001b[43m \u001b[49m\u001b[43mname\u001b[49m\u001b[43m,\u001b[49m\n\u001b[1;32m   3553\u001b[0m \u001b[43m    \u001b[49m\u001b[43mid_type\u001b[49m\u001b[43m \u001b[49m\u001b[38;5;241;43m=\u001b[39;49m\u001b[43m \u001b[49m\u001b[43mid_type\u001b[49m\u001b[43m,\u001b[49m\n\u001b[1;32m   3554\u001b[0m \u001b[43m    \u001b[49m\u001b[43mtarget_id_type\u001b[49m\u001b[43m \u001b[49m\u001b[38;5;241;43m=\u001b[39;49m\u001b[43m \u001b[49m\u001b[43mtarget_id_type\u001b[49m\u001b[43m,\u001b[49m\n\u001b[1;32m   3555\u001b[0m \u001b[43m    \u001b[49m\u001b[43mncbi_tax_id\u001b[49m\u001b[43m \u001b[49m\u001b[38;5;241;43m=\u001b[39;49m\u001b[43m \u001b[49m\u001b[43mncbi_tax_id\u001b[49m\u001b[43m,\u001b[49m\n\u001b[1;32m   3556\u001b[0m \u001b[43m    \u001b[49m\u001b[43mstrict\u001b[49m\u001b[43m \u001b[49m\u001b[38;5;241;43m=\u001b[39;49m\u001b[43m \u001b[49m\u001b[43mstrict\u001b[49m\u001b[43m,\u001b[49m\n\u001b[1;32m   3557\u001b[0m \u001b[43m    \u001b[49m\u001b[43mexpand_complexes\u001b[49m\u001b[43m \u001b[49m\u001b[38;5;241;43m=\u001b[39;49m\u001b[43m \u001b[49m\u001b[43mexpand_complexes\u001b[49m\u001b[43m,\u001b[49m\n\u001b[1;32m   3558\u001b[0m \u001b[43m    \u001b[49m\u001b[43muniprot_cleanup\u001b[49m\u001b[43m \u001b[49m\u001b[38;5;241;43m=\u001b[39;49m\u001b[43m \u001b[49m\u001b[43muniprot_cleanup\u001b[49m\u001b[43m,\u001b[49m\n\u001b[1;32m   3559\u001b[0m \u001b[43m\u001b[49m\u001b[43m)\u001b[49m\n",
      "File \u001b[0;32m~/miniconda3/envs/scverse/lib/python3.12/site-packages/pypath_common/_misc.py:2953\u001b[0m, in \u001b[0;36mignore_unhashable.<locals>.wrapper\u001b[0;34m(*args, **kwargs)\u001b[0m\n\u001b[1;32m   2950\u001b[0m \u001b[38;5;129m@functools\u001b[39m\u001b[38;5;241m.\u001b[39mwraps(func, assigned \u001b[38;5;241m=\u001b[39m attributes)\n\u001b[1;32m   2951\u001b[0m \u001b[38;5;28;01mdef\u001b[39;00m \u001b[38;5;21mwrapper\u001b[39m(\u001b[38;5;241m*\u001b[39margs, \u001b[38;5;241m*\u001b[39m\u001b[38;5;241m*\u001b[39mkwargs):\n\u001b[1;32m   2952\u001b[0m     \u001b[38;5;28;01mtry\u001b[39;00m:\n\u001b[0;32m-> 2953\u001b[0m         \u001b[38;5;28;01mreturn\u001b[39;00m \u001b[43mfunc\u001b[49m\u001b[43m(\u001b[49m\u001b[38;5;241;43m*\u001b[39;49m\u001b[43margs\u001b[49m\u001b[43m,\u001b[49m\u001b[43m \u001b[49m\u001b[38;5;241;43m*\u001b[39;49m\u001b[38;5;241;43m*\u001b[39;49m\u001b[43mkwargs\u001b[49m\u001b[43m)\u001b[49m\n\u001b[1;32m   2954\u001b[0m     \u001b[38;5;28;01mexcept\u001b[39;00m \u001b[38;5;167;01mTypeError\u001b[39;00m \u001b[38;5;28;01mas\u001b[39;00m error:\n\u001b[1;32m   2955\u001b[0m         \u001b[38;5;28;01mif\u001b[39;00m \u001b[38;5;124m'\u001b[39m\u001b[38;5;124munhashable type\u001b[39m\u001b[38;5;124m'\u001b[39m \u001b[38;5;129;01min\u001b[39;00m \u001b[38;5;28mstr\u001b[39m(error):\n",
      "File \u001b[0;32m~/miniconda3/envs/scverse/lib/python3.12/site-packages/pypath/utils/mapping.py:1978\u001b[0m, in \u001b[0;36mMapper.map_name\u001b[0;34m(self, name, id_type, target_id_type, ncbi_tax_id, strict, expand_complexes, uniprot_cleanup)\u001b[0m\n\u001b[1;32m   1964\u001b[0m     mapped_names \u001b[38;5;241m=\u001b[39m \u001b[38;5;28mself\u001b[39m\u001b[38;5;241m.\u001b[39mchain_map(\n\u001b[1;32m   1965\u001b[0m         name \u001b[38;5;241m=\u001b[39m name,\n\u001b[1;32m   1966\u001b[0m         id_type \u001b[38;5;241m=\u001b[39m id_type,\n\u001b[0;32m   (...)\u001b[0m\n\u001b[1;32m   1972\u001b[0m         uniprot_cleanup \u001b[38;5;241m=\u001b[39m uniprot_cleanup,\n\u001b[1;32m   1973\u001b[0m     )\n\u001b[1;32m   1975\u001b[0m \u001b[38;5;28;01melse\u001b[39;00m:\n\u001b[1;32m   1976\u001b[0m \n\u001b[1;32m   1977\u001b[0m     \u001b[38;5;66;03m# all the other ID types\u001b[39;00m\n\u001b[0;32m-> 1978\u001b[0m     mapped_names \u001b[38;5;241m=\u001b[39m \u001b[38;5;28;43mself\u001b[39;49m\u001b[38;5;241;43m.\u001b[39;49m\u001b[43m_map_name\u001b[49m\u001b[43m(\u001b[49m\n\u001b[1;32m   1979\u001b[0m \u001b[43m        \u001b[49m\u001b[43mname\u001b[49m\u001b[43m \u001b[49m\u001b[38;5;241;43m=\u001b[39;49m\u001b[43m \u001b[49m\u001b[43mname\u001b[49m\u001b[43m,\u001b[49m\n\u001b[1;32m   1980\u001b[0m \u001b[43m        \u001b[49m\u001b[43mid_type\u001b[49m\u001b[43m \u001b[49m\u001b[38;5;241;43m=\u001b[39;49m\u001b[43m \u001b[49m\u001b[43mid_type\u001b[49m\u001b[43m,\u001b[49m\n\u001b[1;32m   1981\u001b[0m \u001b[43m        \u001b[49m\u001b[43mtarget_id_type\u001b[49m\u001b[43m \u001b[49m\u001b[38;5;241;43m=\u001b[39;49m\u001b[43m \u001b[49m\u001b[43mtarget_id_type\u001b[49m\u001b[43m,\u001b[49m\n\u001b[1;32m   1982\u001b[0m \u001b[43m        \u001b[49m\u001b[43mncbi_tax_id\u001b[49m\u001b[43m \u001b[49m\u001b[38;5;241;43m=\u001b[39;49m\u001b[43m \u001b[49m\u001b[43mncbi_tax_id\u001b[49m\u001b[43m,\u001b[49m\n\u001b[1;32m   1983\u001b[0m \u001b[43m    \u001b[49m\u001b[43m)\u001b[49m\n\u001b[1;32m   1985\u001b[0m \u001b[38;5;66;03m# as ID translation tables for PRO IDs are not organism specific\u001b[39;00m\n\u001b[1;32m   1986\u001b[0m \u001b[38;5;66;03m# we need an extra step to limit the results to the target organism\u001b[39;00m\n\u001b[1;32m   1987\u001b[0m \u001b[38;5;28;01mif\u001b[39;00m id_type \u001b[38;5;241m==\u001b[39m \u001b[38;5;124m'\u001b[39m\u001b[38;5;124mpro\u001b[39m\u001b[38;5;124m'\u001b[39m \u001b[38;5;129;01mand\u001b[39;00m target_id_type \u001b[38;5;241m==\u001b[39m \u001b[38;5;124m'\u001b[39m\u001b[38;5;124muniprot\u001b[39m\u001b[38;5;124m'\u001b[39m:\n",
      "File \u001b[0;32m~/miniconda3/envs/scverse/lib/python3.12/site-packages/pypath/utils/mapping.py:2510\u001b[0m, in \u001b[0;36mMapper._map_name\u001b[0;34m(self, name, id_type, target_id_type, ncbi_tax_id)\u001b[0m\n\u001b[1;32m   2503\u001b[0m \u001b[38;5;250m\u001b[39m\u001b[38;5;124;03m\"\"\"\u001b[39;00m\n\u001b[1;32m   2504\u001b[0m \u001b[38;5;124;03mOnce we have defined the name type and the target name type,\u001b[39;00m\n\u001b[1;32m   2505\u001b[0m \u001b[38;5;124;03mthis function looks it up in the most suitable dictionary.\u001b[39;00m\n\u001b[1;32m   2506\u001b[0m \u001b[38;5;124;03m\"\"\"\u001b[39;00m\n\u001b[1;32m   2508\u001b[0m ncbi_tax_id \u001b[38;5;241m=\u001b[39m ncbi_tax_id \u001b[38;5;129;01mor\u001b[39;00m \u001b[38;5;28mself\u001b[39m\u001b[38;5;241m.\u001b[39mncbi_tax_id\n\u001b[0;32m-> 2510\u001b[0m tbl \u001b[38;5;241m=\u001b[39m \u001b[38;5;28;43mself\u001b[39;49m\u001b[38;5;241;43m.\u001b[39;49m\u001b[43mwhich_table\u001b[49m\u001b[43m(\u001b[49m\n\u001b[1;32m   2511\u001b[0m \u001b[43m    \u001b[49m\u001b[43mid_type\u001b[49m\u001b[43m,\u001b[49m\n\u001b[1;32m   2512\u001b[0m \u001b[43m    \u001b[49m\u001b[43mtarget_id_type\u001b[49m\u001b[43m,\u001b[49m\n\u001b[1;32m   2513\u001b[0m \u001b[43m    \u001b[49m\u001b[43mncbi_tax_id\u001b[49m\u001b[43m \u001b[49m\u001b[38;5;241;43m=\u001b[39;49m\u001b[43m \u001b[49m\u001b[43mncbi_tax_id\u001b[49m\u001b[43m,\u001b[49m\n\u001b[1;32m   2514\u001b[0m \u001b[43m\u001b[49m\u001b[43m)\u001b[49m\n\u001b[1;32m   2516\u001b[0m \u001b[38;5;28;01mreturn\u001b[39;00m tbl[name] \u001b[38;5;28;01mif\u001b[39;00m tbl \u001b[38;5;28;01melse\u001b[39;00m \u001b[38;5;28mset\u001b[39m()\n",
      "File \u001b[0;32m~/miniconda3/envs/scverse/lib/python3.12/site-packages/pypath/utils/mapping.py:1562\u001b[0m, in \u001b[0;36mMapper.which_table\u001b[0;34m(self, id_type, target_id_type, load, ncbi_tax_id)\u001b[0m\n\u001b[1;32m   1551\u001b[0m \u001b[38;5;28;01mif\u001b[39;00m resource:\n\u001b[1;32m   1553\u001b[0m     \u001b[38;5;28mself\u001b[39m\u001b[38;5;241m.\u001b[39m_log(\n\u001b[1;32m   1554\u001b[0m         \u001b[38;5;124m'\u001b[39m\u001b[38;5;124mChosen built-in defined ID translation table: \u001b[39m\u001b[38;5;124m'\u001b[39m\n\u001b[1;32m   1555\u001b[0m         \u001b[38;5;124m'\u001b[39m\u001b[38;5;124mresource=\u001b[39m\u001b[38;5;132;01m%s\u001b[39;00m\u001b[38;5;124m, id_type_a=\u001b[39m\u001b[38;5;132;01m%s\u001b[39;00m\u001b[38;5;124m, id_type_b=\u001b[39m\u001b[38;5;132;01m%s\u001b[39;00m\u001b[38;5;124m'\u001b[39m \u001b[38;5;241m%\u001b[39m (\n\u001b[0;32m   (...)\u001b[0m\n\u001b[1;32m   1559\u001b[0m         )\n\u001b[1;32m   1560\u001b[0m     )\n\u001b[0;32m-> 1562\u001b[0m     \u001b[38;5;28;43mself\u001b[39;49m\u001b[38;5;241;43m.\u001b[39;49m\u001b[43mload_mapping\u001b[49m\u001b[43m(\u001b[49m\n\u001b[1;32m   1563\u001b[0m \u001b[43m        \u001b[49m\u001b[43mresource\u001b[49m\u001b[43m \u001b[49m\u001b[38;5;241;43m=\u001b[39;49m\u001b[43m \u001b[49m\u001b[43mresource\u001b[49m\u001b[43m,\u001b[49m\n\u001b[1;32m   1564\u001b[0m \u001b[43m        \u001b[49m\u001b[43mload_a_to_b\u001b[49m\u001b[43m \u001b[49m\u001b[38;5;241;43m=\u001b[39;49m\u001b[43m \u001b[49m\u001b[43mload_a_to_b\u001b[49m\u001b[43m,\u001b[49m\n\u001b[1;32m   1565\u001b[0m \u001b[43m        \u001b[49m\u001b[43mload_b_to_a\u001b[49m\u001b[43m \u001b[49m\u001b[38;5;241;43m=\u001b[39;49m\u001b[43m \u001b[49m\u001b[43mload_b_to_a\u001b[49m\u001b[43m,\u001b[49m\n\u001b[1;32m   1566\u001b[0m \u001b[43m        \u001b[49m\u001b[43mncbi_tax_id\u001b[49m\u001b[43m \u001b[49m\u001b[38;5;241;43m=\u001b[39;49m\u001b[43m \u001b[49m\u001b[43mncbi_tax_id\u001b[49m\u001b[43m,\u001b[49m\n\u001b[1;32m   1567\u001b[0m \u001b[43m    \u001b[49m\u001b[43m)\u001b[49m\n\u001b[1;32m   1569\u001b[0m     tbl \u001b[38;5;241m=\u001b[39m check_loaded()\n\u001b[1;32m   1571\u001b[0m     \u001b[38;5;28;01mbreak\u001b[39;00m\n",
      "File \u001b[0;32m~/miniconda3/envs/scverse/lib/python3.12/site-packages/pypath/utils/mapping.py:3208\u001b[0m, in \u001b[0;36mMapper.load_mapping\u001b[0;34m(self, resource, **kwargs)\u001b[0m\n\u001b[1;32m   3195\u001b[0m ncbi_tax_id \u001b[38;5;241m=\u001b[39m kwargs\u001b[38;5;241m.\u001b[39mget(\u001b[38;5;124m'\u001b[39m\u001b[38;5;124mncbi_tax_id\u001b[39m\u001b[38;5;124m'\u001b[39m, resource\u001b[38;5;241m.\u001b[39mncbi_tax_id)\n\u001b[1;32m   3197\u001b[0m \u001b[38;5;28mself\u001b[39m\u001b[38;5;241m.\u001b[39m_log(\n\u001b[1;32m   3198\u001b[0m     \u001b[38;5;124m'\u001b[39m\u001b[38;5;124mLoading mapping table for organism `\u001b[39m\u001b[38;5;132;01m%s\u001b[39;00m\u001b[38;5;124m` \u001b[39m\u001b[38;5;124m'\u001b[39m\n\u001b[1;32m   3199\u001b[0m     \u001b[38;5;124m'\u001b[39m\u001b[38;5;124mwith identifiers `\u001b[39m\u001b[38;5;132;01m%s\u001b[39;00m\u001b[38;5;124m` and `\u001b[39m\u001b[38;5;132;01m%s\u001b[39;00m\u001b[38;5;124m`, \u001b[39m\u001b[38;5;124m'\u001b[39m\n\u001b[0;32m   (...)\u001b[0m\n\u001b[1;32m   3205\u001b[0m     )\n\u001b[1;32m   3206\u001b[0m )\n\u001b[0;32m-> 3208\u001b[0m reader \u001b[38;5;241m=\u001b[39m \u001b[43mMapReader\u001b[49m\u001b[43m(\u001b[49m\u001b[43mparam\u001b[49m\u001b[43m \u001b[49m\u001b[38;5;241;43m=\u001b[39;49m\u001b[43m \u001b[49m\u001b[43mresource\u001b[49m\u001b[43m,\u001b[49m\u001b[43m \u001b[49m\u001b[38;5;241;43m*\u001b[39;49m\u001b[38;5;241;43m*\u001b[39;49m\u001b[43mkwargs\u001b[49m\u001b[43m)\u001b[49m\n\u001b[1;32m   3210\u001b[0m a_to_b \u001b[38;5;241m=\u001b[39m reader\u001b[38;5;241m.\u001b[39mmapping_table_a_to_b\n\u001b[1;32m   3211\u001b[0m b_to_a \u001b[38;5;241m=\u001b[39m reader\u001b[38;5;241m.\u001b[39mmapping_table_b_to_a\n",
      "File \u001b[0;32m~/miniconda3/envs/scverse/lib/python3.12/site-packages/pypath/utils/mapping.py:258\u001b[0m, in \u001b[0;36mMapReader.__init__\u001b[0;34m(self, param, ncbi_tax_id, entity_type, load_a_to_b, load_b_to_a, uniprots, lifetime, resource_id_types)\u001b[0m\n\u001b[1;32m    255\u001b[0m \u001b[38;5;28mself\u001b[39m\u001b[38;5;241m.\u001b[39muniprots \u001b[38;5;241m=\u001b[39m uniprots\n\u001b[1;32m    256\u001b[0m \u001b[38;5;28mself\u001b[39m\u001b[38;5;241m.\u001b[39m_resource_id_types \u001b[38;5;241m=\u001b[39m resource_id_types\n\u001b[0;32m--> 258\u001b[0m \u001b[38;5;28;43mself\u001b[39;49m\u001b[38;5;241;43m.\u001b[39;49m\u001b[43mload\u001b[49m\u001b[43m(\u001b[49m\u001b[43m)\u001b[49m\n",
      "File \u001b[0;32m~/miniconda3/envs/scverse/lib/python3.12/site-packages/pypath/utils/mapping.py:288\u001b[0m, in \u001b[0;36mMapReader.load\u001b[0;34m(self)\u001b[0m\n\u001b[1;32m    283\u001b[0m     \u001b[38;5;28mself\u001b[39m\u001b[38;5;241m.\u001b[39mread_cache()\n\u001b[1;32m    285\u001b[0m \u001b[38;5;28;01mif\u001b[39;00m \u001b[38;5;129;01mnot\u001b[39;00m \u001b[38;5;28mself\u001b[39m\u001b[38;5;241m.\u001b[39mtables_loaded():\n\u001b[1;32m    286\u001b[0m \n\u001b[1;32m    287\u001b[0m     \u001b[38;5;66;03m# read from the original source\u001b[39;00m\n\u001b[0;32m--> 288\u001b[0m     \u001b[38;5;28;43mself\u001b[39;49m\u001b[38;5;241;43m.\u001b[39;49m\u001b[43mread\u001b[49m\u001b[43m(\u001b[49m\u001b[43m)\u001b[49m\n\u001b[1;32m    290\u001b[0m     \u001b[38;5;28;01mif\u001b[39;00m \u001b[38;5;28mself\u001b[39m\u001b[38;5;241m.\u001b[39mtables_loaded():\n\u001b[1;32m    291\u001b[0m \n\u001b[1;32m    292\u001b[0m         \u001b[38;5;66;03m# write cache only at successful loading\u001b[39;00m\n\u001b[1;32m    293\u001b[0m         \u001b[38;5;28mself\u001b[39m\u001b[38;5;241m.\u001b[39mwrite_cache()\n",
      "File \u001b[0;32m~/miniconda3/envs/scverse/lib/python3.12/site-packages/pypath/utils/mapping.py:450\u001b[0m, in \u001b[0;36mMapReader.read\u001b[0;34m(self)\u001b[0m\n\u001b[1;32m    446\u001b[0m method \u001b[38;5;241m=\u001b[39m \u001b[38;5;124m'\u001b[39m\u001b[38;5;124mread_mapping_\u001b[39m\u001b[38;5;132;01m%s\u001b[39;00m\u001b[38;5;124m'\u001b[39m \u001b[38;5;241m%\u001b[39m \u001b[38;5;28mself\u001b[39m\u001b[38;5;241m.\u001b[39msource_type\n\u001b[1;32m    448\u001b[0m \u001b[38;5;28;01mif\u001b[39;00m \u001b[38;5;28mhasattr\u001b[39m(\u001b[38;5;28mself\u001b[39m, method):\n\u001b[0;32m--> 450\u001b[0m     \u001b[38;5;28;43mgetattr\u001b[39;49m\u001b[43m(\u001b[49m\u001b[38;5;28;43mself\u001b[39;49m\u001b[43m,\u001b[49m\u001b[43m \u001b[49m\u001b[43mmethod\u001b[49m\u001b[43m)\u001b[49m\u001b[43m(\u001b[49m\u001b[43m)\u001b[49m\n",
      "File \u001b[0;32m~/miniconda3/envs/scverse/lib/python3.12/site-packages/pypath/utils/mapping.py:893\u001b[0m, in \u001b[0;36mMapReader.read_mapping_uniprot\u001b[0;34m(self)\u001b[0m\n\u001b[1;32m    891\u001b[0m protein_name \u001b[38;5;241m=\u001b[39m \u001b[38;5;28mself\u001b[39m\u001b[38;5;241m.\u001b[39mparam\u001b[38;5;241m.\u001b[39mfield \u001b[38;5;241m==\u001b[39m \u001b[38;5;124m'\u001b[39m\u001b[38;5;124mprotein names\u001b[39m\u001b[38;5;124m'\u001b[39m\n\u001b[1;32m    892\u001b[0m query\u001b[38;5;241m.\u001b[39mname_process \u001b[38;5;241m=\u001b[39m \u001b[38;5;129;01mnot\u001b[39;00m protein_name \u001b[38;5;129;01mand\u001b[39;00m \u001b[38;5;129;01mnot\u001b[39;00m trembl\n\u001b[0;32m--> 893\u001b[0m data \u001b[38;5;241m=\u001b[39m \u001b[43mquery\u001b[49m\u001b[38;5;241;43m.\u001b[39;49m\u001b[43mperform\u001b[49m\u001b[43m(\u001b[49m\u001b[43m)\u001b[49m\n\u001b[1;32m    895\u001b[0m \u001b[38;5;28;01mif\u001b[39;00m \u001b[38;5;129;01mnot\u001b[39;00m query\u001b[38;5;241m.\u001b[39mname_process:\n\u001b[1;32m    897\u001b[0m     \u001b[38;5;28;01mdef\u001b[39;00m \u001b[38;5;21mmaybe_split\u001b[39m(v):\n",
      "File \u001b[0;32m~/miniconda3/envs/scverse/lib/python3.12/site-packages/pypath/inputs/uniprot.py:681\u001b[0m, in \u001b[0;36mUniprotQuery.perform\u001b[0;34m(self)\u001b[0m\n\u001b[1;32m    669\u001b[0m \u001b[38;5;28;01mdef\u001b[39;00m \u001b[38;5;21mperform\u001b[39m(\u001b[38;5;28mself\u001b[39m) \u001b[38;5;241m-\u001b[39m\u001b[38;5;241m>\u001b[39m \u001b[38;5;28mlist\u001b[39m[\u001b[38;5;28mstr\u001b[39m] \u001b[38;5;241m|\u001b[39m \u001b[38;5;28mdict\u001b[39m[\u001b[38;5;28mstr\u001b[39m, \u001b[38;5;28mstr\u001b[39m] \u001b[38;5;241m|\u001b[39m \u001b[38;5;28mdict\u001b[39m[\u001b[38;5;28mstr\u001b[39m, \u001b[38;5;28mdict\u001b[39m[\u001b[38;5;28mstr\u001b[39m, \u001b[38;5;28mstr\u001b[39m]]:\n\u001b[1;32m    670\u001b[0m \u001b[38;5;250m    \u001b[39m\u001b[38;5;124;03m\"\"\"\u001b[39;00m\n\u001b[1;32m    671\u001b[0m \u001b[38;5;124;03m    Perform the query and preprocess the result.\u001b[39;00m\n\u001b[1;32m    672\u001b[0m \n\u001b[0;32m   (...)\u001b[0m\n\u001b[1;32m    678\u001b[0m \u001b[38;5;124;03m          kind described in the previous point as values.\u001b[39;00m\n\u001b[1;32m    679\u001b[0m \u001b[38;5;124;03m    \"\"\"\u001b[39;00m\n\u001b[0;32m--> 681\u001b[0m     _id, \u001b[38;5;241m*\u001b[39mvariables \u001b[38;5;241m=\u001b[39m \u001b[38;5;28;43mzip\u001b[39;49m\u001b[43m(\u001b[49m\u001b[38;5;241;43m*\u001b[39;49m\u001b[38;5;28;43mself\u001b[39;49m\u001b[43m)\u001b[49m\n\u001b[1;32m    682\u001b[0m     _id \u001b[38;5;241m=\u001b[39m \u001b[38;5;28mlist\u001b[39m(\u001b[38;5;28mmap\u001b[39m(common\u001b[38;5;241m.\u001b[39msfirst, _id))\n\u001b[1;32m    684\u001b[0m     \u001b[38;5;28;01mif\u001b[39;00m variables:\n",
      "File \u001b[0;32m~/miniconda3/envs/scverse/lib/python3.12/site-packages/pypath/inputs/uniprot.py:660\u001b[0m, in \u001b[0;36mUniprotQuery.__iter__\u001b[0;34m(self)\u001b[0m\n\u001b[1;32m    657\u001b[0m _proc0 \u001b[38;5;241m=\u001b[39m functools\u001b[38;5;241m.\u001b[39mpartial(\u001b[38;5;28mself\u001b[39m\u001b[38;5;241m.\u001b[39m_FIELDEND\u001b[38;5;241m.\u001b[39msub, \u001b[38;5;124m'\u001b[39m\u001b[38;5;124m'\u001b[39m)\n\u001b[1;32m    658\u001b[0m _proc1 \u001b[38;5;241m=\u001b[39m \u001b[38;5;28mself\u001b[39m\u001b[38;5;241m.\u001b[39m_FIELDSEP\u001b[38;5;241m.\u001b[39msplit \u001b[38;5;28;01mif\u001b[39;00m \u001b[38;5;28mself\u001b[39m\u001b[38;5;241m.\u001b[39mname_process \u001b[38;5;28;01melse\u001b[39;00m common\u001b[38;5;241m.\u001b[39midentity\n\u001b[0;32m--> 660\u001b[0m \u001b[43m\u001b[49m\u001b[38;5;28;43;01mfor\u001b[39;49;00m\u001b[43m \u001b[49m\u001b[43mline\u001b[49m\u001b[43m \u001b[49m\u001b[38;5;129;43;01min\u001b[39;49;00m\u001b[43m \u001b[49m\u001b[43mresult\u001b[49m\u001b[43m:\u001b[49m\n\u001b[1;32m    662\u001b[0m \u001b[43m    \u001b[49m\u001b[43mline\u001b[49m\u001b[43m \u001b[49m\u001b[38;5;241;43m=\u001b[39;49m\u001b[43m \u001b[49m\u001b[43mline\u001b[49m\u001b[38;5;241;43m.\u001b[39;49m\u001b[43mstrip\u001b[49m\u001b[43m(\u001b[49m\u001b[38;5;124;43m'\u001b[39;49m\u001b[38;5;130;43;01m\\n\u001b[39;49;00m\u001b[38;5;130;43;01m\\r\u001b[39;49;00m\u001b[38;5;124;43m'\u001b[39;49m\u001b[43m)\u001b[49m\n\u001b[1;32m    664\u001b[0m \u001b[43m    \u001b[49m\u001b[38;5;28;43;01mif\u001b[39;49;00m\u001b[43m \u001b[49m\u001b[43mline\u001b[49m\u001b[38;5;241;43m.\u001b[39;49m\u001b[43mstrip\u001b[49m\u001b[43m(\u001b[49m\u001b[43m)\u001b[49m\u001b[43m:\u001b[49m\n",
      "File \u001b[0;32m~/miniconda3/envs/scverse/lib/python3.12/site-packages/pypath/share/curl.py:766\u001b[0m, in \u001b[0;36mFileOpener.iterfile\u001b[0;34m(fileobj)\u001b[0m\n\u001b[1;32m    763\u001b[0m \u001b[38;5;129m@staticmethod\u001b[39m\n\u001b[1;32m    764\u001b[0m \u001b[38;5;28;01mdef\u001b[39;00m \u001b[38;5;21miterfile\u001b[39m(fileobj):\n\u001b[0;32m--> 766\u001b[0m \u001b[43m    \u001b[49m\u001b[38;5;28;43;01mfor\u001b[39;49;00m\u001b[43m \u001b[49m\u001b[43mline\u001b[49m\u001b[43m \u001b[49m\u001b[38;5;129;43;01min\u001b[39;49;00m\u001b[43m \u001b[49m\u001b[43mfileobj\u001b[49m\u001b[43m:\u001b[49m\n\u001b[1;32m    768\u001b[0m \u001b[43m        \u001b[49m\u001b[38;5;28;43;01myield\u001b[39;49;00m\u001b[43m \u001b[49m\u001b[43mline\u001b[49m\n",
      "File \u001b[0;32m~/miniconda3/envs/scverse/lib/python3.12/gzip.py:337\u001b[0m, in \u001b[0;36mGzipFile.read1\u001b[0;34m(self, size)\u001b[0m\n\u001b[1;32m    335\u001b[0m \u001b[38;5;28;01mif\u001b[39;00m size \u001b[38;5;241m<\u001b[39m \u001b[38;5;241m0\u001b[39m:\n\u001b[1;32m    336\u001b[0m     size \u001b[38;5;241m=\u001b[39m io\u001b[38;5;241m.\u001b[39mDEFAULT_BUFFER_SIZE\n\u001b[0;32m--> 337\u001b[0m \u001b[38;5;28;01mreturn\u001b[39;00m \u001b[38;5;28;43mself\u001b[39;49m\u001b[38;5;241;43m.\u001b[39;49m\u001b[43m_buffer\u001b[49m\u001b[38;5;241;43m.\u001b[39;49m\u001b[43mread1\u001b[49m\u001b[43m(\u001b[49m\u001b[43msize\u001b[49m\u001b[43m)\u001b[49m\n",
      "File \u001b[0;32m~/miniconda3/envs/scverse/lib/python3.12/_compression.py:68\u001b[0m, in \u001b[0;36mDecompressReader.readinto\u001b[0;34m(self, b)\u001b[0m\n\u001b[1;32m     66\u001b[0m \u001b[38;5;28;01mdef\u001b[39;00m \u001b[38;5;21mreadinto\u001b[39m(\u001b[38;5;28mself\u001b[39m, b):\n\u001b[1;32m     67\u001b[0m     \u001b[38;5;28;01mwith\u001b[39;00m \u001b[38;5;28mmemoryview\u001b[39m(b) \u001b[38;5;28;01mas\u001b[39;00m view, view\u001b[38;5;241m.\u001b[39mcast(\u001b[38;5;124m\"\u001b[39m\u001b[38;5;124mB\u001b[39m\u001b[38;5;124m\"\u001b[39m) \u001b[38;5;28;01mas\u001b[39;00m byte_view:\n\u001b[0;32m---> 68\u001b[0m         data \u001b[38;5;241m=\u001b[39m \u001b[38;5;28;43mself\u001b[39;49m\u001b[38;5;241;43m.\u001b[39;49m\u001b[43mread\u001b[49m\u001b[43m(\u001b[49m\u001b[38;5;28;43mlen\u001b[39;49m\u001b[43m(\u001b[49m\u001b[43mbyte_view\u001b[49m\u001b[43m)\u001b[49m\u001b[43m)\u001b[49m\n\u001b[1;32m     69\u001b[0m         byte_view[:\u001b[38;5;28mlen\u001b[39m(data)] \u001b[38;5;241m=\u001b[39m data\n\u001b[1;32m     70\u001b[0m     \u001b[38;5;28;01mreturn\u001b[39;00m \u001b[38;5;28mlen\u001b[39m(data)\n",
      "File \u001b[0;32m~/miniconda3/envs/scverse/lib/python3.12/gzip.py:537\u001b[0m, in \u001b[0;36m_GzipReader.read\u001b[0;34m(self, size)\u001b[0m\n\u001b[1;32m    535\u001b[0m     uncompress \u001b[38;5;241m=\u001b[39m \u001b[38;5;28mself\u001b[39m\u001b[38;5;241m.\u001b[39m_decompressor\u001b[38;5;241m.\u001b[39mdecompress(buf, size)\n\u001b[1;32m    536\u001b[0m \u001b[38;5;28;01melse\u001b[39;00m:\n\u001b[0;32m--> 537\u001b[0m     uncompress \u001b[38;5;241m=\u001b[39m \u001b[38;5;28;43mself\u001b[39;49m\u001b[38;5;241;43m.\u001b[39;49m\u001b[43m_decompressor\u001b[49m\u001b[38;5;241;43m.\u001b[39;49m\u001b[43mdecompress\u001b[49m\u001b[43m(\u001b[49m\u001b[38;5;124;43mb\u001b[39;49m\u001b[38;5;124;43m\"\u001b[39;49m\u001b[38;5;124;43m\"\u001b[39;49m\u001b[43m,\u001b[49m\u001b[43m \u001b[49m\u001b[43msize\u001b[49m\u001b[43m)\u001b[49m\n\u001b[1;32m    539\u001b[0m \u001b[38;5;28;01mif\u001b[39;00m \u001b[38;5;28mself\u001b[39m\u001b[38;5;241m.\u001b[39m_decompressor\u001b[38;5;241m.\u001b[39munused_data \u001b[38;5;241m!=\u001b[39m \u001b[38;5;124mb\u001b[39m\u001b[38;5;124m\"\u001b[39m\u001b[38;5;124m\"\u001b[39m:\n\u001b[1;32m    540\u001b[0m     \u001b[38;5;66;03m# Prepend the already read bytes to the fileobj so they can\u001b[39;00m\n\u001b[1;32m    541\u001b[0m     \u001b[38;5;66;03m# be seen by _read_eof() and _read_gzip_header()\u001b[39;00m\n\u001b[1;32m    542\u001b[0m     \u001b[38;5;28mself\u001b[39m\u001b[38;5;241m.\u001b[39m_fp\u001b[38;5;241m.\u001b[39mprepend(\u001b[38;5;28mself\u001b[39m\u001b[38;5;241m.\u001b[39m_decompressor\u001b[38;5;241m.\u001b[39munused_data)\n",
      "\u001b[0;31merror\u001b[0m: Error -3 while decompressing data: invalid stored block lengths"
     ]
    }
   ],
   "source": [
    "# Translate targets\n",
    "mouse_msigdb = dc.translate_net(msigdb, target_organism = 'mouse', unique_by = ('geneset', 'genesymbol'))\n",
    "mouse_msigdb"
   ]
  },
  {
   "cell_type": "markdown",
   "id": "9eba7e39",
   "metadata": {},
   "source": [
    "Note that when performing homology convertion we might gain or lose some genes from one organism to another.\n",
    "\n",
    "Let us try the fruit fly (`7227`) now:"
   ]
  },
  {
   "cell_type": "code",
   "execution_count": null,
   "id": "cb639e96",
   "metadata": {},
   "outputs": [],
   "source": [
    "# Translate targets\n",
    "fly_msigdb = dc.translate_net(msigdb, target_organism = 7227, unique_by = ('genesymbol', 'geneset'))\n",
    "fly_msigdb"
   ]
  },
  {
   "cell_type": "markdown",
   "id": "d1b57699",
   "metadata": {},
   "source": [
    "The `translate_net` function provides finer control, but in most cases it's enough to pass the name of the desired organism to the functions that download the data:"
   ]
  },
  {
   "cell_type": "code",
   "execution_count": null,
   "id": "e0aa9113",
   "metadata": {},
   "outputs": [],
   "source": [
    "spw = dc.get_resource('SignaLink_pathway', organism = 'rat')\n",
    "spw"
   ]
  },
  {
   "cell_type": "markdown",
   "id": "ebb64084",
   "metadata": {},
   "source": [
    "PROGENy and CollecTRI have their own dedicated functions which work a similar way:"
   ]
  },
  {
   "cell_type": "code",
   "execution_count": null,
   "id": "6d2cfca1",
   "metadata": {},
   "outputs": [],
   "source": [
    "dc.get_progeny(organism = 'Mus musculus')"
   ]
  },
  {
   "cell_type": "code",
   "execution_count": null,
   "id": "82e8f694",
   "metadata": {
    "tags": []
   },
   "outputs": [],
   "source": [
    "dc.get_collectri(organism = 'mouse')"
   ]
  }
 ],
 "metadata": {
  "kernelspec": {
   "display_name": "Python 3 (ipykernel)",
   "language": "python",
   "name": "python3"
  },
  "language_info": {
   "codemirror_mode": {
    "name": "ipython",
    "version": 3
   },
   "file_extension": ".py",
   "mimetype": "text/x-python",
   "name": "python",
   "nbconvert_exporter": "python",
   "pygments_lexer": "ipython3",
   "version": "3.12.7"
  }
 },
 "nbformat": 4,
 "nbformat_minor": 5
}
